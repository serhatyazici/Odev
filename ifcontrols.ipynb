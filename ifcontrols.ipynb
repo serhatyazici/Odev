{
 "cells": [
  {
   "cell_type": "code",
   "execution_count": 1,
   "id": "19c8da88-c84a-4220-899c-4ea7dbab55d0",
   "metadata": {},
   "outputs": [],
   "source": [
    "x = 5\n",
    "y = 2"
   ]
  },
  {
   "cell_type": "code",
   "execution_count": 2,
   "id": "f9c859ff-5582-4622-a15d-5c4195495563",
   "metadata": {},
   "outputs": [
    {
     "data": {
      "text/plain": [
       "True"
      ]
     },
     "execution_count": 2,
     "metadata": {},
     "output_type": "execute_result"
    }
   ],
   "source": [
    "x > y"
   ]
  },
  {
   "cell_type": "code",
   "execution_count": 3,
   "id": "21434a34-3991-4c3b-b2c4-35df607b9a57",
   "metadata": {},
   "outputs": [
    {
     "data": {
      "text/plain": [
       "False"
      ]
     },
     "execution_count": 3,
     "metadata": {},
     "output_type": "execute_result"
    }
   ],
   "source": [
    "x < y"
   ]
  },
  {
   "cell_type": "code",
   "execution_count": 4,
   "id": "52b0a4c8-32f0-4097-8b7a-d4fd192737a2",
   "metadata": {},
   "outputs": [
    {
     "data": {
      "text/plain": [
       "False"
      ]
     },
     "execution_count": 4,
     "metadata": {},
     "output_type": "execute_result"
    }
   ],
   "source": [
    "y > x"
   ]
  },
  {
   "cell_type": "code",
   "execution_count": 5,
   "id": "ffab4728-fbec-480a-87f9-cd71ec4f882b",
   "metadata": {},
   "outputs": [
    {
     "data": {
      "text/plain": [
       "True"
      ]
     },
     "execution_count": 5,
     "metadata": {},
     "output_type": "execute_result"
    }
   ],
   "source": [
    "y < x"
   ]
  },
  {
   "cell_type": "code",
   "execution_count": 6,
   "id": "b0156159-093b-452c-a758-2212fae7887a",
   "metadata": {},
   "outputs": [],
   "source": [
    "y = 5"
   ]
  },
  {
   "cell_type": "code",
   "execution_count": 7,
   "id": "2ed07f75-d823-4b78-be7e-d4716f9eea87",
   "metadata": {},
   "outputs": [
    {
     "data": {
      "text/plain": [
       "True"
      ]
     },
     "execution_count": 7,
     "metadata": {},
     "output_type": "execute_result"
    }
   ],
   "source": [
    "x >= y"
   ]
  },
  {
   "cell_type": "code",
   "execution_count": 8,
   "id": "d1888450-489c-4190-827d-a3ee348ca019",
   "metadata": {},
   "outputs": [
    {
     "data": {
      "text/plain": [
       "True"
      ]
     },
     "execution_count": 8,
     "metadata": {},
     "output_type": "execute_result"
    }
   ],
   "source": [
    "x <= y"
   ]
  },
  {
   "cell_type": "code",
   "execution_count": 9,
   "id": "047b7637-218d-44e5-aa84-88985c8999e6",
   "metadata": {},
   "outputs": [
    {
     "data": {
      "text/plain": [
       "5"
      ]
     },
     "execution_count": 9,
     "metadata": {},
     "output_type": "execute_result"
    }
   ],
   "source": [
    "x"
   ]
  },
  {
   "cell_type": "code",
   "execution_count": 10,
   "id": "86ffd0c2-a901-4c00-9b2a-10553788f67e",
   "metadata": {},
   "outputs": [
    {
     "data": {
      "text/plain": [
       "5"
      ]
     },
     "execution_count": 10,
     "metadata": {},
     "output_type": "execute_result"
    }
   ],
   "source": [
    "y"
   ]
  },
  {
   "cell_type": "code",
   "execution_count": 11,
   "id": "45dcecfa-0b7e-4a03-add7-f0c6a1596d75",
   "metadata": {},
   "outputs": [],
   "source": [
    "x = 10"
   ]
  },
  {
   "cell_type": "code",
   "execution_count": 12,
   "id": "e9038ad5-82fe-4d05-9be1-26a46c54c87b",
   "metadata": {},
   "outputs": [],
   "source": [
    "y = 8"
   ]
  },
  {
   "cell_type": "code",
   "execution_count": 13,
   "id": "a6860815-8cbe-47aa-859b-cceb6c0cccd6",
   "metadata": {},
   "outputs": [
    {
     "data": {
      "text/plain": [
       "10"
      ]
     },
     "execution_count": 13,
     "metadata": {},
     "output_type": "execute_result"
    }
   ],
   "source": [
    "x"
   ]
  },
  {
   "cell_type": "code",
   "execution_count": 14,
   "id": "df51c5d3-32b4-4ba1-ae22-d87cb8062d0e",
   "metadata": {},
   "outputs": [
    {
     "data": {
      "text/plain": [
       "8"
      ]
     },
     "execution_count": 14,
     "metadata": {},
     "output_type": "execute_result"
    }
   ],
   "source": [
    "y"
   ]
  },
  {
   "cell_type": "code",
   "execution_count": 15,
   "id": "7582dfba-212a-4976-80ab-849bad7e787b",
   "metadata": {},
   "outputs": [],
   "source": [
    "x = y "
   ]
  },
  {
   "cell_type": "code",
   "execution_count": 16,
   "id": "58dfef0b-28b9-4463-8963-7bae333288cd",
   "metadata": {},
   "outputs": [
    {
     "data": {
      "text/plain": [
       "8"
      ]
     },
     "execution_count": 16,
     "metadata": {},
     "output_type": "execute_result"
    }
   ],
   "source": [
    "x"
   ]
  },
  {
   "cell_type": "code",
   "execution_count": 17,
   "id": "ca6f088b-f93e-4f62-9413-f635aa84faf9",
   "metadata": {},
   "outputs": [
    {
     "data": {
      "text/plain": [
       "8"
      ]
     },
     "execution_count": 17,
     "metadata": {},
     "output_type": "execute_result"
    }
   ],
   "source": [
    "y"
   ]
  },
  {
   "cell_type": "code",
   "execution_count": 18,
   "id": "b48ccfb1-0f3f-43d5-8987-b09bcd6ae67b",
   "metadata": {},
   "outputs": [],
   "source": [
    "# x = y yapmak x eşit mi y ye demek değil"
   ]
  },
  {
   "cell_type": "code",
   "execution_count": 19,
   "id": "1f20f8ff-a862-4d0d-abe6-e4f393bb612a",
   "metadata": {},
   "outputs": [],
   "source": [
    "# x = y demek x in değerini y kaçsa y neyse x de o olsun demek"
   ]
  },
  {
   "cell_type": "code",
   "execution_count": 20,
   "id": "3bd73866-79ea-4340-a406-37c8e6fbd183",
   "metadata": {},
   "outputs": [],
   "source": [
    "x = 10"
   ]
  },
  {
   "cell_type": "code",
   "execution_count": 21,
   "id": "c8379ea1-a6d1-4257-82c7-2dc4d7c2b3fd",
   "metadata": {},
   "outputs": [],
   "source": [
    "y = 8"
   ]
  },
  {
   "cell_type": "code",
   "execution_count": 22,
   "id": "16985e54-06fa-4a57-aec6-4e1d8a346b55",
   "metadata": {},
   "outputs": [
    {
     "data": {
      "text/plain": [
       "False"
      ]
     },
     "execution_count": 22,
     "metadata": {},
     "output_type": "execute_result"
    }
   ],
   "source": [
    "x == y"
   ]
  },
  {
   "cell_type": "code",
   "execution_count": 23,
   "id": "14d75631-026d-4aac-ba34-58b15ff74931",
   "metadata": {},
   "outputs": [],
   "source": [
    "# x ile y eşit mi diye kontrol etmek için x == y yazmamız lazım"
   ]
  },
  {
   "cell_type": "code",
   "execution_count": 24,
   "id": "051773b1-aea7-4b1d-b9f9-24dcd8e9fa05",
   "metadata": {},
   "outputs": [
    {
     "data": {
      "text/plain": [
       "True"
      ]
     },
     "execution_count": 24,
     "metadata": {},
     "output_type": "execute_result"
    }
   ],
   "source": [
    "x != y "
   ]
  },
  {
   "cell_type": "code",
   "execution_count": 25,
   "id": "6f3ab969-81ef-4841-b572-83d6fb1cdef3",
   "metadata": {},
   "outputs": [],
   "source": [
    "# x != y ise x y ye eşit değildir demek"
   ]
  },
  {
   "cell_type": "code",
   "execution_count": 26,
   "id": "2bc8a30c-d18f-4d08-b9f6-224b192466aa",
   "metadata": {},
   "outputs": [
    {
     "data": {
      "text/plain": [
       "True"
      ]
     },
     "execution_count": 26,
     "metadata": {},
     "output_type": "execute_result"
    }
   ],
   "source": [
    "2 > 1 and 3 > 2"
   ]
  },
  {
   "cell_type": "code",
   "execution_count": 27,
   "id": "f88d76d1-d087-49f3-8f11-d04808ed8e7f",
   "metadata": {},
   "outputs": [
    {
     "data": {
      "text/plain": [
       "False"
      ]
     },
     "execution_count": 27,
     "metadata": {},
     "output_type": "execute_result"
    }
   ],
   "source": [
    "2 > 1 and 3 < 2"
   ]
  },
  {
   "cell_type": "code",
   "execution_count": 28,
   "id": "5dbd4e6a-98aa-49b7-a8c8-fe33916c5848",
   "metadata": {},
   "outputs": [
    {
     "data": {
      "text/plain": [
       "True"
      ]
     },
     "execution_count": 28,
     "metadata": {},
     "output_type": "execute_result"
    }
   ],
   "source": [
    "True and True "
   ]
  },
  {
   "cell_type": "code",
   "execution_count": 29,
   "id": "8f8259f0-85ec-4510-bb7f-a2f246d5b6bc",
   "metadata": {},
   "outputs": [
    {
     "data": {
      "text/plain": [
       "False"
      ]
     },
     "execution_count": 29,
     "metadata": {},
     "output_type": "execute_result"
    }
   ],
   "source": [
    "True and False "
   ]
  },
  {
   "cell_type": "code",
   "execution_count": 30,
   "id": "981c3b06-b49e-4776-9ded-0d2683b3c439",
   "metadata": {},
   "outputs": [
    {
     "data": {
      "text/plain": [
       "False"
      ]
     },
     "execution_count": 30,
     "metadata": {},
     "output_type": "execute_result"
    }
   ],
   "source": [
    "False and False "
   ]
  },
  {
   "cell_type": "code",
   "execution_count": 31,
   "id": "55a27640-41ae-44b1-b165-fd4f446a6f3f",
   "metadata": {},
   "outputs": [
    {
     "data": {
      "text/plain": [
       "True"
      ]
     },
     "execution_count": 31,
     "metadata": {},
     "output_type": "execute_result"
    }
   ],
   "source": [
    "2 > 1 or 3 < 1 "
   ]
  },
  {
   "cell_type": "code",
   "execution_count": 32,
   "id": "59beff90-8978-4afa-9228-f7a711ef9898",
   "metadata": {},
   "outputs": [
    {
     "data": {
      "text/plain": [
       "True"
      ]
     },
     "execution_count": 32,
     "metadata": {},
     "output_type": "execute_result"
    }
   ],
   "source": [
    "True or True "
   ]
  },
  {
   "cell_type": "code",
   "execution_count": 33,
   "id": "076c29f2-37b7-483f-a39f-999dee783c2a",
   "metadata": {},
   "outputs": [
    {
     "data": {
      "text/plain": [
       "True"
      ]
     },
     "execution_count": 33,
     "metadata": {},
     "output_type": "execute_result"
    }
   ],
   "source": [
    "True or False "
   ]
  },
  {
   "cell_type": "code",
   "execution_count": 34,
   "id": "6fce5b28-733c-4616-bb16-269d7abcae79",
   "metadata": {},
   "outputs": [
    {
     "data": {
      "text/plain": [
       "False"
      ]
     },
     "execution_count": 34,
     "metadata": {},
     "output_type": "execute_result"
    }
   ],
   "source": [
    "False or False "
   ]
  },
  {
   "cell_type": "code",
   "execution_count": 35,
   "id": "25f1be3d-e091-40dd-b834-c3738f049c52",
   "metadata": {},
   "outputs": [
    {
     "data": {
      "text/plain": [
       "False"
      ]
     },
     "execution_count": 35,
     "metadata": {},
     "output_type": "execute_result"
    }
   ],
   "source": [
    "not 1 == 1"
   ]
  },
  {
   "cell_type": "code",
   "execution_count": 36,
   "id": "bc4dfa68-f039-46bd-a5be-a9f7e3a5599d",
   "metadata": {},
   "outputs": [],
   "source": [
    "#not olumsuzluk döndürüyor normalde 1 == 1 sonucu True ama başına not eklersek sonucun tersini verir"
   ]
  },
  {
   "cell_type": "code",
   "execution_count": 37,
   "id": "5aef0efc-29de-4269-88a3-27ad385d8032",
   "metadata": {},
   "outputs": [
    {
     "data": {
      "text/plain": [
       "True"
      ]
     },
     "execution_count": 37,
     "metadata": {},
     "output_type": "execute_result"
    }
   ],
   "source": [
    "10 in [10,20,30]"
   ]
  },
  {
   "cell_type": "code",
   "execution_count": 38,
   "id": "3876fae9-2f15-40d4-862d-0a1a70b249ea",
   "metadata": {},
   "outputs": [],
   "source": [
    "# bir liste yaptık ve o listenin içinde 10 in yazarak bu listenin içinde 10 var mı diye sorduk"
   ]
  },
  {
   "cell_type": "code",
   "execution_count": 39,
   "id": "69c596aa-4da3-4782-9f42-1010c56ed0e2",
   "metadata": {},
   "outputs": [
    {
     "data": {
      "text/plain": [
       "False"
      ]
     },
     "execution_count": 39,
     "metadata": {},
     "output_type": "execute_result"
    }
   ],
   "source": [
    "13 in [10,20,30]"
   ]
  },
  {
   "cell_type": "code",
   "execution_count": 40,
   "id": "41ea03b3-1104-4871-8b2e-743005ea991e",
   "metadata": {},
   "outputs": [],
   "source": [
    "# 13 listede olmadığı için false verdi "
   ]
  },
  {
   "cell_type": "code",
   "execution_count": 41,
   "id": "13a18074-8536-4bfd-8ab7-80d1f1632fa1",
   "metadata": {},
   "outputs": [
    {
     "data": {
      "text/plain": [
       "True"
      ]
     },
     "execution_count": 41,
     "metadata": {},
     "output_type": "execute_result"
    }
   ],
   "source": [
    "not 13 in [10,20,30]"
   ]
  },
  {
   "cell_type": "code",
   "execution_count": 42,
   "id": "efed2507-4d06-4e58-885b-27653e8ed647",
   "metadata": {},
   "outputs": [],
   "source": [
    "# 13 listede olmadığı için normalde False çıkacaktı ama başına not eklediğimiz için cevabı değiştirdi ve True yaptı"
   ]
  },
  {
   "cell_type": "code",
   "execution_count": 43,
   "id": "d3443957-9ce7-47c6-9b48-56172e4522ba",
   "metadata": {},
   "outputs": [
    {
     "data": {
      "text/plain": [
       "True"
      ]
     },
     "execution_count": 43,
     "metadata": {},
     "output_type": "execute_result"
    }
   ],
   "source": [
    "10 in {10,20,30}"
   ]
  },
  {
   "cell_type": "code",
   "execution_count": 44,
   "id": "c3a55d94-7440-44d5-9b15-d0f5fb6c1fa9",
   "metadata": {},
   "outputs": [],
   "source": [
    "# set'lerde de bakabiliyoruz içinde mi diye "
   ]
  },
  {
   "cell_type": "code",
   "execution_count": 45,
   "id": "209bae5e-6440-4619-8767-f35f6866aa55",
   "metadata": {},
   "outputs": [],
   "source": [
    "my_dictionary = {\"a\":10,\"b\":20,\"c\":30}"
   ]
  },
  {
   "cell_type": "code",
   "execution_count": 46,
   "id": "0b791167-7bf2-4e0e-ad7a-4fe1ee4d3102",
   "metadata": {},
   "outputs": [
    {
     "data": {
      "text/plain": [
       "False"
      ]
     },
     "execution_count": 46,
     "metadata": {},
     "output_type": "execute_result"
    }
   ],
   "source": [
    "10 in my_dictionary"
   ]
  },
  {
   "cell_type": "code",
   "execution_count": 47,
   "id": "9a55304f-7168-42fb-99dd-d6cfaa4cb8cb",
   "metadata": {},
   "outputs": [],
   "source": [
    "# normalde içinde 10 olmasına rağmen sözcüklerde anahtar değer(value) eşleşmesi olduğu için 10 da False gözüktü"
   ]
  },
  {
   "cell_type": "code",
   "execution_count": 48,
   "id": "bbc95a56-4402-4e63-9030-e4a1cd200cd3",
   "metadata": {},
   "outputs": [
    {
     "data": {
      "text/plain": [
       "True"
      ]
     },
     "execution_count": 48,
     "metadata": {},
     "output_type": "execute_result"
    }
   ],
   "source": [
    "10 in my_dictionary.values()"
   ]
  },
  {
   "cell_type": "code",
   "execution_count": 49,
   "id": "b2f2e36a-6e40-4579-a09b-1cba3379308d",
   "metadata": {},
   "outputs": [],
   "source": [
    "# şimdi işe yaradı çünkü values da sorduk 10 var mı diye o yüzden de True çıktı "
   ]
  },
  {
   "cell_type": "code",
   "execution_count": 50,
   "id": "9ba61e87-022d-4342-8367-be6473b31c44",
   "metadata": {},
   "outputs": [
    {
     "data": {
      "text/plain": [
       "True"
      ]
     },
     "execution_count": 50,
     "metadata": {},
     "output_type": "execute_result"
    }
   ],
   "source": [
    "\"b\" in my_dictionary.keys()"
   ]
  },
  {
   "cell_type": "code",
   "execution_count": 51,
   "id": "5692c30f-cfa0-4326-8497-39d8f82e9e0a",
   "metadata": {},
   "outputs": [],
   "source": [
    "# anahtarda da \"b\" var mı diye sorduk şimdi de True dedi eğer ki .keys'i eklemeseydik False çıkacaktı sanki \"b\" anahtarlarda\n",
    "# yokmuş gibi duracaktı"
   ]
  },
  {
   "cell_type": "code",
   "execution_count": 52,
   "id": "7f9cedba-5c43-4a9f-889e-3c84f7847a27",
   "metadata": {},
   "outputs": [
    {
     "data": {
      "text/plain": [
       "True"
      ]
     },
     "execution_count": 52,
     "metadata": {},
     "output_type": "execute_result"
    }
   ],
   "source": [
    "10 in (10,20,30)"
   ]
  },
  {
   "cell_type": "code",
   "execution_count": 53,
   "id": "dfdea85a-b103-4450-88b7-938acc90722f",
   "metadata": {},
   "outputs": [],
   "source": [
    "# Tuple da da işe yarıyor tabii ki "
   ]
  },
  {
   "cell_type": "code",
   "execution_count": 54,
   "id": "76fbe8ba-3314-40af-8080-0861b1867567",
   "metadata": {},
   "outputs": [
    {
     "data": {
      "text/plain": [
       "False"
      ]
     },
     "execution_count": 54,
     "metadata": {},
     "output_type": "execute_result"
    }
   ],
   "source": [
    "10 not in (10,20,30)"
   ]
  },
  {
   "cell_type": "code",
   "execution_count": 55,
   "id": "e3615ecf-3e07-4e61-8a62-f670ab546568",
   "metadata": {},
   "outputs": [],
   "source": [
    "# 🥰"
   ]
  },
  {
   "cell_type": "markdown",
   "id": "ca2c93ed-474e-408c-9b74-f6876de9a832",
   "metadata": {},
   "source": [
    "## ifcontrols --> eğer kontroller varsa"
   ]
  },
  {
   "cell_type": "code",
   "execution_count": 57,
   "id": "04671b42-519b-4e28-aa64-aeeb835dad75",
   "metadata": {},
   "outputs": [],
   "source": [
    "my_superhero = \"Batman\""
   ]
  },
  {
   "cell_type": "code",
   "execution_count": 58,
   "id": "e2e51a45-e143-41e9-84a1-345758d65caa",
   "metadata": {},
   "outputs": [
    {
     "data": {
      "text/plain": [
       "'Batman'"
      ]
     },
     "execution_count": 58,
     "metadata": {},
     "output_type": "execute_result"
    }
   ],
   "source": [
    "my_superhero"
   ]
  },
  {
   "cell_type": "code",
   "execution_count": 59,
   "id": "02ab0f0a-2de2-4906-9259-e8f87edfd59d",
   "metadata": {},
   "outputs": [
    {
     "data": {
      "text/plain": [
       "True"
      ]
     },
     "execution_count": 59,
     "metadata": {},
     "output_type": "execute_result"
    }
   ],
   "source": [
    "my_superhero == \"Batman\""
   ]
  },
  {
   "cell_type": "code",
   "execution_count": 60,
   "id": "a60c5c94-cb5f-499f-b587-abdf0a7ad5ce",
   "metadata": {},
   "outputs": [
    {
     "data": {
      "text/plain": [
       "False"
      ]
     },
     "execution_count": 60,
     "metadata": {},
     "output_type": "execute_result"
    }
   ],
   "source": [
    "my_superhero == \"Superman\""
   ]
  },
  {
   "cell_type": "code",
   "execution_count": 61,
   "id": "94d62c5d-e3a7-4945-a4c8-8361f15f2344",
   "metadata": {},
   "outputs": [
    {
     "name": "stdout",
     "output_type": "stream",
     "text": [
      "batmannn\n",
      "atil samancioglu\n"
     ]
    }
   ],
   "source": [
    "if my_superhero == \"Batman\":\n",
    "    #bu boşluğun adı indentation denir pythonda bu boşluklar çok önemli\n",
    "    print(\"batmannn\")\n",
    "    print(\"atil samancioglu\")\n",
    "    "
   ]
  },
  {
   "cell_type": "code",
   "execution_count": 62,
   "id": "cb5e97dd-10ee-4795-97b8-593f4493a1a2",
   "metadata": {},
   "outputs": [],
   "source": [
    "# bak if my_superhero == \"batman\": ifadesi doğru olduğu için print ifadelerini yazdırabildik"
   ]
  },
  {
   "cell_type": "code",
   "execution_count": 63,
   "id": "6cf86d20-3b9b-48bd-8b9d-ae8e1e06705a",
   "metadata": {},
   "outputs": [],
   "source": [
    "#mesela şimdi de my_superhero'yu Superman yapalım"
   ]
  },
  {
   "cell_type": "code",
   "execution_count": 64,
   "id": "6d8533c8-a60f-4d3b-940d-8c5c4f273169",
   "metadata": {},
   "outputs": [],
   "source": [
    "my_superhero = \"Superman\""
   ]
  },
  {
   "cell_type": "code",
   "execution_count": 65,
   "id": "73ed69f1-04ff-4980-8f13-7639711c0ddb",
   "metadata": {},
   "outputs": [
    {
     "data": {
      "text/plain": [
       "True"
      ]
     },
     "execution_count": 65,
     "metadata": {},
     "output_type": "execute_result"
    }
   ],
   "source": [
    "my_superhero == \"Superman\""
   ]
  },
  {
   "cell_type": "code",
   "execution_count": 66,
   "id": "fd0aa63b-001c-4f1d-9685-723b8597242c",
   "metadata": {},
   "outputs": [],
   "source": [
    "if my_superhero == \"Batman\":\n",
    "    print(\"batmannn\")\n",
    "    print(\"atil samancioglu\")"
   ]
  },
  {
   "cell_type": "code",
   "execution_count": 67,
   "id": "b9c4660b-4dda-4299-b451-f04774736227",
   "metadata": {},
   "outputs": [],
   "source": [
    "# bak if ifadesi False olduğu için print ifadelerini yazdıramadık "
   ]
  },
  {
   "cell_type": "code",
   "execution_count": 68,
   "id": "b23d6a16-04a9-461e-8cbc-a2b1ea03fe7c",
   "metadata": {},
   "outputs": [
    {
     "name": "stdout",
     "output_type": "stream",
     "text": [
      "batmannn\n",
      "serhat yazici\n"
     ]
    }
   ],
   "source": [
    "if my_superhero == \"Superman\":\n",
    "    print(\"batmannn\")\n",
    "    print(\"serhat yazici\")"
   ]
  },
  {
   "cell_type": "code",
   "execution_count": 69,
   "id": "a98a8df4-9c27-43e6-a9cd-05179a2ba794",
   "metadata": {},
   "outputs": [],
   "source": [
    "#tekrardan if ifadesi True olduğu için print ifadelerini yazdırabildik"
   ]
  },
  {
   "cell_type": "code",
   "execution_count": 70,
   "id": "8572bea4-8182-485f-8b4d-be379e1d7b0b",
   "metadata": {},
   "outputs": [],
   "source": [
    "if my_superhero == \"Batman\":\n",
    "    print(\"batmannn\")\n",
    "    print(\"atil samancioglu\")"
   ]
  },
  {
   "cell_type": "code",
   "execution_count": 71,
   "id": "38519a6c-845a-414a-9177-713d6426edbd",
   "metadata": {},
   "outputs": [],
   "source": [
    "# şimdi burası False olduğu için yazdıramıyoruz ya hani eğer ki o 1 \"tablık\" boşluğu silersek if bloğuna dahil olmaz\n",
    "# ve istediğimiz çıktıyı tekrar alabiliriz"
   ]
  },
  {
   "cell_type": "code",
   "execution_count": 72,
   "id": "c1508084-aa16-49f3-9c1d-125153c41324",
   "metadata": {},
   "outputs": [
    {
     "name": "stdout",
     "output_type": "stream",
     "text": [
      "hello python\n"
     ]
    }
   ],
   "source": [
    "if my_superhero == \"Batman\":\n",
    "    print(\"batmannn\")\n",
    "    print(\"atil samancioglu\")\n",
    "print(\"hello python\")"
   ]
  },
  {
   "cell_type": "code",
   "execution_count": 73,
   "id": "e6efe64d-accb-4062-80a7-6d6885884070",
   "metadata": {},
   "outputs": [],
   "source": [
    "# her şey göründüğü gibi gayet çalışıyor mükkemmmel bir sistem"
   ]
  },
  {
   "cell_type": "code",
   "execution_count": 74,
   "id": "7b788ad0-cf57-40dc-aef6-59bf3917a631",
   "metadata": {},
   "outputs": [],
   "source": [
    "# şimdi de hem örnek True olsun hem de yeni print yapalım"
   ]
  },
  {
   "cell_type": "code",
   "execution_count": 75,
   "id": "1c0e0caa-7c78-4cb7-a127-b2a15afeefec",
   "metadata": {},
   "outputs": [
    {
     "name": "stdout",
     "output_type": "stream",
     "text": [
      "batmannn\n",
      "serhat yazici\n",
      "simal\n",
      "sule\n"
     ]
    }
   ],
   "source": [
    "if my_superhero == \"Superman\":\n",
    "    print(\"batmannn\")\n",
    "    print(\"serhat yazici\")\n",
    "print(\"simal\")\n",
    "print(\"sule\")"
   ]
  },
  {
   "cell_type": "code",
   "execution_count": 76,
   "id": "f4d87f90-9439-45c9-855c-5468604ae387",
   "metadata": {},
   "outputs": [],
   "source": [
    "# örnek de True olduğu için hem if'deki printler çıktı hem de tablık boşluğu silince yeni yazdığımız printler çıktı"
   ]
  },
  {
   "cell_type": "code",
   "execution_count": 77,
   "id": "9f1538e0-bccf-476f-8e11-c9468b83e677",
   "metadata": {},
   "outputs": [
    {
     "name": "stdout",
     "output_type": "stream",
     "text": [
      "hello world\n",
      "atil\n"
     ]
    }
   ],
   "source": [
    "if 3 > 2:\n",
    "    print(\"hello world\")\n",
    "    print(\"atil\")"
   ]
  },
  {
   "cell_type": "code",
   "execution_count": 78,
   "id": "3468507a-2dcf-4164-bc82-728853f58ddd",
   "metadata": {},
   "outputs": [],
   "source": [
    "if 3 > 4:\n",
    "    print(\"hello world\")\n",
    "    print(\"atil\")"
   ]
  },
  {
   "cell_type": "code",
   "execution_count": 79,
   "id": "dc0657f6-7a4f-49a1-b2ab-7b7c90880458",
   "metadata": {},
   "outputs": [
    {
     "name": "stdin",
     "output_type": "stream",
     "text": [
      "enter superhero:  Superman\n"
     ]
    }
   ],
   "source": [
    "my_superhero = input(\"enter superhero: \")"
   ]
  },
  {
   "cell_type": "code",
   "execution_count": 80,
   "id": "3a17c088-bd90-43bd-bb96-97e1e49b2ac2",
   "metadata": {},
   "outputs": [],
   "source": [
    "# kullanıdan yazmasını istedik"
   ]
  },
  {
   "cell_type": "code",
   "execution_count": 81,
   "id": "ff35aaac-7be1-4969-85d0-f6b42d9d44ce",
   "metadata": {},
   "outputs": [
    {
     "name": "stdout",
     "output_type": "stream",
     "text": [
      "superman\n"
     ]
    }
   ],
   "source": [
    "if my_superhero == \"Superman\":\n",
    "    print(\"superman\")\n",
    "elif my_superhero == \"Batman\":\n",
    "    print(\"batman\")\n",
    "elif my_superhero == \"Aquaman\":\n",
    "    print(\"aquaman\")\n",
    "elif my_superhero == \"Ironman\":\n",
    "    print(\"ironman\")\n",
    "elif my_superhero == \"Flash\":\n",
    "    print(\"flash\")\n",
    "else:\n",
    "    print(\":(\")"
   ]
  },
  {
   "cell_type": "code",
   "execution_count": 82,
   "id": "8004a0c3-8608-4cdc-a499-2cd848068d1e",
   "metadata": {},
   "outputs": [],
   "source": [
    "# if eğer demek, else if eğer şöyle ise demek \n",
    "# elif if --> elif diye kısaltılıyor\n",
    "#else: hiç bir koşula uymuyorsa buraya başka bir şey yazdırmak için kullanılıyor"
   ]
  },
  {
   "cell_type": "code",
   "execution_count": 83,
   "id": "ba96f028-00ee-4675-8fae-918690041d93",
   "metadata": {},
   "outputs": [],
   "source": [
    "my_age = 42"
   ]
  },
  {
   "cell_type": "code",
   "execution_count": 84,
   "id": "074c500d-ee40-4a0b-aa4c-58c408853c45",
   "metadata": {},
   "outputs": [
    {
     "name": "stdout",
     "output_type": "stream",
     "text": [
      "age > 40\n"
     ]
    }
   ],
   "source": [
    "if my_age <= 18:\n",
    "    print(\"age < 18\")\n",
    "elif my_age > 18 and my_age <= 30:\n",
    "    print(\"18 - age - 30\")\n",
    "elif my_age > 30 and my_age <= 40:\n",
    "    print(\"30 - age - 40\")\n",
    "else:\n",
    "    print(\"age > 40\")"
   ]
  },
  {
   "cell_type": "code",
   "execution_count": 85,
   "id": "2d8e3409-7442-448b-9a9c-200b6a2971c2",
   "metadata": {},
   "outputs": [
    {
     "name": "stdin",
     "output_type": "stream",
     "text": [
      "enger superhero:  Spider Man\n"
     ]
    }
   ],
   "source": [
    "my_superhero = input(\"enter superhero: \")"
   ]
  },
  {
   "cell_type": "code",
   "execution_count": 86,
   "id": "906089eb-b42f-47c3-baad-ae2bdb765cfd",
   "metadata": {},
   "outputs": [],
   "source": [
    "my_superhero_list = [\"Spider Man\",\"Iron Man\",\"Thor\",\"Black Widow\",\"Hawkeye\"]"
   ]
  },
  {
   "cell_type": "code",
   "execution_count": 87,
   "id": "7417016b-3afe-485f-b063-88687f6a9737",
   "metadata": {},
   "outputs": [
    {
     "name": "stdout",
     "output_type": "stream",
     "text": [
      ":)\n"
     ]
    }
   ],
   "source": [
    "if my_superhero in my_superhero_list:\n",
    "    print(\":)\")\n",
    "else:\n",
    "    print(\":(\")"
   ]
  },
  {
   "cell_type": "code",
   "execution_count": null,
   "id": "23735b4e-9daf-4628-b917-c6fc5338f01e",
   "metadata": {},
   "outputs": [],
   "source": []
  }
 ],
 "metadata": {
  "kernelspec": {
   "display_name": "Python 3 (ipykernel)",
   "language": "python",
   "name": "python3"
  },
  "language_info": {
   "codemirror_mode": {
    "name": "ipython",
    "version": 3
   },
   "file_extension": ".py",
   "mimetype": "text/x-python",
   "name": "python",
   "nbconvert_exporter": "python",
   "pygments_lexer": "ipython3",
   "version": "3.12.4"
  }
 },
 "nbformat": 4,
 "nbformat_minor": 5
}
